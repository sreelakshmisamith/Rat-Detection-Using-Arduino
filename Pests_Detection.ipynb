{
  "nbformat": 4,
  "nbformat_minor": 0,
  "metadata": {
    "colab": {
      "provenance": [],
      "gpuType": "T4"
    },
    "kernelspec": {
      "name": "python3",
      "display_name": "Python 3"
    },
    "language_info": {
      "name": "python"
    },
    "accelerator": "GPU"
  },
  "cells": [
    {
      "cell_type": "code",
      "execution_count": null,
      "metadata": {
        "id": "x5CYn5MXv6_o"
      },
      "outputs": [],
      "source": [
        "pip install -U ultralytics"
      ]
    },
    {
      "cell_type": "code",
      "source": [
        "!pip install roboflow\n",
        "\n",
        "from roboflow import Roboflow\n",
        "rf = Roboflow(api_key=\"rWOwsHdmSVhYNPUUvRtM\")\n",
        "project = rf.workspace(\"pest-detection-lofdq\").project(\"pests-detection-gsgkn\")\n",
        "version = project.version(3)\n",
        "dataset = version.download(\"yolov5\")\n",
        "\n",
        "# Check if dataset is downloaded correctly\n",
        "!mkdir -p /content/datasets\n",
        "!ls /content\n",
        "!ls /content/datasets  # Confirm the directory where the dataset is saved\n"
      ],
      "metadata": {
        "id": "FnsmlQ7bxB3o"
      },
      "execution_count": null,
      "outputs": []
    },
    {
      "cell_type": "code",
      "source": [
        "# Load and display the current contents of data.yaml\n",
        "import yaml\n",
        "\n",
        "yaml_path = '/content/Pests-Detection-3/data.yaml'\n",
        "\n",
        "# Open and print the contents of data.yaml\n",
        "with open(yaml_path, 'r') as file:\n",
        "    data_yaml = yaml.safe_load(file)\n",
        "\n",
        "print(data_yaml)\n"
      ],
      "metadata": {
        "id": "y2bULQ2Fx_Eo"
      },
      "execution_count": null,
      "outputs": []
    },
    {
      "cell_type": "code",
      "source": [
        "# Update the paths if incorrect\n",
        "data_yaml['train'] = '/content/Pests-Detection-3/train/images'\n",
        "data_yaml['val'] = '/content/Pests-Detection-3/valid/images'\n",
        "\n",
        "# Save the updated data.yaml file\n",
        "with open(yaml_path, 'w') as file:\n",
        "    yaml.dump(data_yaml, file)\n",
        "\n",
        "print(\"Updated paths in data.yaml:\", data_yaml)\n"
      ],
      "metadata": {
        "id": "397p235ByBss"
      },
      "execution_count": null,
      "outputs": []
    },
    {
      "cell_type": "code",
      "source": [
        "with open('/content/Pests-Detection-3/data.yaml', 'r') as f:\n",
        "    print(f.read())\n"
      ],
      "metadata": {
        "id": "jBOKa96AyaQT"
      },
      "execution_count": null,
      "outputs": []
    },
    {
      "cell_type": "code",
      "source": [
        "!yolo detect train model=yolov8n.pt data=/content/Pests-Detection-3/data.yaml epochs=50 imgsz=640\n"
      ],
      "metadata": {
        "id": "3Q0HRitnydSL"
      },
      "execution_count": null,
      "outputs": []
    },
    {
      "cell_type": "code",
      "source": [
        "!yolo task=detect mode=val model=/content/runs/detect/train/weights/best.pt data=/content/Pests-Detection-3/data.yaml"
      ],
      "metadata": {
        "id": "DTSppgivz7i6"
      },
      "execution_count": null,
      "outputs": []
    },
    {
      "cell_type": "code",
      "source": [
        "!yolo task=detect mode=predict model=/content/runs/detect/train/weights/best.pt conf=0.25 source=/content/Pests-Detection-3/test/images save=true"
      ],
      "metadata": {
        "id": "LzNbRmWy0RH5"
      },
      "execution_count": null,
      "outputs": []
    },
    {
      "cell_type": "code",
      "source": [
        "!zip -r /content/runs.zip /content/runs"
      ],
      "metadata": {
        "id": "i7jVr-C80gdX"
      },
      "execution_count": null,
      "outputs": []
    },
    {
      "cell_type": "code",
      "source": [
        "import glob\n",
        "from IPython.display import Image, display\n",
        "\n",
        "for image_path in glob.glob(f'/content/runs/detect/predict/display630_3_jpg.rf.8feede90c83a2a65517bda2feae20c74.jpg')[:3]:\n",
        "      display(Image(filename=image_path, height=600))\n",
        "      print(\"\\n\")"
      ],
      "metadata": {
        "id": "YHFOmSqQ0jH-"
      },
      "execution_count": null,
      "outputs": []
    },
    {
      "cell_type": "code",
      "source": [
        "!pip install pyngrok\n",
        "!ngrok config add-authtoken \"2o6bFU2iXAJBrOUQdxmmtGo9uWG_674R6gTVXJnQNe3hjZWuN\""
      ],
      "metadata": {
        "id": "bapYCfzAhjoT"
      },
      "execution_count": null,
      "outputs": []
    },
    {
      "cell_type": "code",
      "source": [
        "from pyngrok import ngrok\n",
        "public_url = ngrok.connect(5000)\n",
        "print(\"Ngrok Tunnel URL:\", public_url)"
      ],
      "metadata": {
        "id": "6uanCtobhjTG"
      },
      "execution_count": null,
      "outputs": []
    },
    {
      "cell_type": "code",
      "source": [
        "from flask import Flask, request\n",
        "from pyngrok import ngrok\n",
        "\n",
        "# Initialize Flask app\n",
        "app = Flask(__name__)\n",
        "\n",
        "# Define the endpoint to receive data\n",
        "@app.route('/your_endpoint', methods=['POST'])\n",
        "def receive_data():\n",
        "    data = request.form\n",
        "    distance = data.get(\"distance\")\n",
        "    pir = data.get(\"pir\")\n",
        "    print(f\"Distance: {distance}, PIR: {pir}\")\n",
        "    return \"Data received\", 200\n",
        "\n",
        "# Start Ngrok tunnel and Flask app\n",
        "public_url = ngrok.connect(5000)\n",
        "print(\"Ngrok Tunnel URL:\", public_url)\n",
        "app.run(port=5000)\n"
      ],
      "metadata": {
        "id": "IOo02HtwjZv7"
      },
      "execution_count": null,
      "outputs": []
    }
  ]
}